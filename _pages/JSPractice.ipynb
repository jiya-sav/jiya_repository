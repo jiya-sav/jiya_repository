{
 "cells": [
  {
   "cell_type": "markdown",
   "metadata": {},
   "source": [
    "# This Is My Demonstration of html and javascript\n",
    "toc: true\n",
    "- comments: true\n",
    "- categories: [week 5]\n",
    "\n",
    "[Link to my additions and experimentation with given js tutorial notebook](https://www.markdownguide.org/cheat-sheet/)\n",
    "[links](https://www.markdownguide.org/cheat-sheet/)"
   ]
  }
 ],
 "metadata": {
  "kernelspec": {
   "display_name": "Python 3.8.10 64-bit",
   "language": "python",
   "name": "python3"
  },
  "language_info": {
   "name": "python",
   "version": "3.8.10"
  },
  "orig_nbformat": 4,
  "vscode": {
   "interpreter": {
    "hash": "916dbcbb3f70747c44a77c7bcd40155683ae19c65e1c03b4aa3499c5328201f1"
   }
  }
 },
 "nbformat": 4,
 "nbformat_minor": 2
}
