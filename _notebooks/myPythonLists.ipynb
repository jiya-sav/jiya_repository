{
 "cells": [
  {
   "cell_type": "markdown",
   "metadata": {},
   "source": [
    "# Below is my own custom dictionary and list\n"
   ]
  },
  {
   "cell_type": "code",
   "execution_count": 7,
   "metadata": {},
   "outputs": [
    {
     "name": "stdout",
     "output_type": "stream",
     "text": [
      "Your favorite fruits are:['e', 'a']\n"
     ]
    }
   ],
   "source": [
    "# I begin by creating an empty list and adding an input option\n",
    "Fav_Fruit = []\n",
    "fruit_count = int(input(\"How many favorite fruits do you have?\"))\n",
    "\n",
    "# now I use a for loop to append the list of fav fruit based on what the user enters\n",
    "for i in range(0, fruit_count):\n",
    "    fruit = str(input(\"What is your favorite fruit # \" + str(i + 1) + \":\"))\n",
    "    Fav_Fruit.append(fruit)\n",
    "\n",
    "# The list is printed\n",
    "print(\"Your favorite fruits are: \" + str(Fav_Fruit))\n"
   ]
  }
 ],
 "metadata": {
  "kernelspec": {
   "display_name": "Python 3.8.10 64-bit",
   "language": "python",
   "name": "python3"
  },
  "language_info": {
   "codemirror_mode": {
    "name": "ipython",
    "version": 3
   },
   "file_extension": ".py",
   "mimetype": "text/x-python",
   "name": "python",
   "nbconvert_exporter": "python",
   "pygments_lexer": "ipython3",
   "version": "3.8.10"
  },
  "orig_nbformat": 4,
  "vscode": {
   "interpreter": {
    "hash": "916dbcbb3f70747c44a77c7bcd40155683ae19c65e1c03b4aa3499c5328201f1"
   }
  }
 },
 "nbformat": 4,
 "nbformat_minor": 2
}
