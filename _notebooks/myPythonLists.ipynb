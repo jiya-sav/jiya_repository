{
 "cells": [
  {
   "cell_type": "markdown",
   "metadata": {},
   "source": [
    "# Below is my own custom dictionary and list\n",
    "- title: Jiya's Custom Lists, Dictionaries, Iteration\n",
    "- toc: true\n",
    "- categories: [units]\n",
    "- image: /images/fruits.jpg\n",
    "- categories: [Week 2]\n",
    "- tags: [python]"
   ]
  },
  {
   "cell_type": "code",
   "execution_count": 19,
   "metadata": {},
   "outputs": [
    {
     "name": "stdout",
     "output_type": "stream",
     "text": [
      "For loop output\n",
      "\n",
      "Arya's favorite fruits are Orange, Apple, Mango, Jackfruit, Watermelon\n",
      "\n",
      "Jiya's favorite fruits are Orange, Lemon\n",
      "\n",
      "piyush's favorite fruits are mango, pineapple\n",
      "\n"
     ]
    }
   ],
   "source": [
    "# I begin by creating an empty list and adding an input option\n",
    "Fav_Fruit_Dictionary = []\n",
    "Fav_Fruit_Dictionary.append({\n",
    "    \"FirstName\": \"Arya\",\n",
    "    \"Fav_Fruits\": [\"Orange\", \"Apple\", \"Mango\", \"Jackfruit\", \"Watermelon\"]\n",
    "})\n",
    "\n",
    "Fav_Fruit_Dictionary.append({\n",
    "    \"FirstName\": \"Jiya\",\n",
    "    \"Fav_Fruits\": [\"Orange\", \"Lemon\"]\n",
    "})\n",
    "\n",
    "# add one more entry based on input from user\n",
    "# ask user first name of friend and friend's fav fruits\n",
    "friend_name = input(\"What is your friend's first name?\")\n",
    "friend_fruit_count = int(input(\"How many favorite fruits does \" + friend_name + \" have?\"))\n",
    "\n",
    "# make temporary list to hold fruit values from input\n",
    "fruit_dictionary = []\n",
    "for i in range(0, friend_fruit_count):\n",
    "    fruit = str(input(\"What is your friend's favorite fruit # \" + str(i + 1) + \":\"))\n",
    "    fruit_dictionary.append(fruit)\n",
    "\n",
    "# now we will append the friend's name and fruit list to the main dictionary\n",
    "Fav_Fruit_Dictionary.append ({\n",
    "    \"FirstName\": friend_name,\n",
    "    \"Fav_Fruits\": fruit_dictionary\n",
    "})\n",
    "\n",
    "\n",
    "# The list is printed\n",
    "def print_data(printfruit):\n",
    "    print(printfruit[\"FirstName\"] + \"'s \" + \"favorite fruits are \", end=\"\")\n",
    "    print(\", \".join(printfruit[\"Fav_Fruits\"]))\n",
    "    print()\n",
    "\n",
    "def for_loop():\n",
    "    print(\"For loop output\\n\")\n",
    "    for record in Fav_Fruit_Dictionary:\n",
    "        print_data(record)\n",
    "\n",
    "for_loop()\n",
    "\n",
    "\n"
   ]
  },
  {
   "cell_type": "markdown",
   "metadata": {},
   "source": [
    "There are other methods besides append that can be used on lists. Below, I have demonstrated how to reverse the order and remove items."
   ]
  },
  {
   "cell_type": "code",
   "execution_count": 20,
   "metadata": {},
   "outputs": [
    {
     "name": "stdout",
     "output_type": "stream",
     "text": [
      "Printing the same dictionary in reverse order:\n",
      "piyush's favorite fruits are mango, pineapple\n",
      "\n",
      "Jiya's favorite fruits are Orange, Lemon\n",
      "\n",
      "Arya's favorite fruits are Orange, Apple, Mango, Jackfruit, Watermelon\n",
      "\n",
      "Printing the same list, with Jiya's record removed:\n",
      "Arya's favorite fruits are Orange, Apple, Mango, Jackfruit, Watermelon\n",
      "\n",
      "piyush's favorite fruits are mango, pineapple\n",
      "\n"
     ]
    }
   ],
   "source": [
    "# Reversing output order\n",
    "print(\"Printing the same dictionary in reverse order:\")\n",
    "for record in reversed(Fav_Fruit_Dictionary):\n",
    "     print_data(record)\n",
    "\n",
    "# Removing the second record in the dictionary\n",
    "print(\"Printing the same list, with Jiya's record removed:\")\n",
    "del Fav_Fruit_Dictionary[1]\n",
    "for record in Fav_Fruit_Dictionary:\n",
    "     print_data(record)\n"
   ]
  },
  {
   "cell_type": "markdown",
   "metadata": {},
   "source": [
    "Now, I explore other type of loops, like while"
   ]
  },
  {
   "cell_type": "code",
   "execution_count": 21,
   "metadata": {},
   "outputs": [
    {
     "name": "stdout",
     "output_type": "stream",
     "text": [
      "While loop output\n",
      "\n",
      "Arya's favorite fruits are Orange, Apple, Mango, Jackfruit, Watermelon\n",
      "\n",
      "piyush's favorite fruits are mango, pineapple\n",
      "\n"
     ]
    }
   ],
   "source": [
    "# while loop is below\n",
    "def while_loop():\n",
    "    print(\"While loop output\\n\")\n",
    "    i = 0\n",
    "    while i < len(Fav_Fruit_Dictionary):\n",
    "        record = Fav_Fruit_Dictionary[i]\n",
    "        print_data(record)\n",
    "        i += 1\n",
    "    return\n",
    "\n",
    "while_loop()"
   ]
  }
 ],
 "metadata": {
  "kernelspec": {
   "display_name": "Python 3.8.10 64-bit",
   "language": "python",
   "name": "python3"
  },
  "language_info": {
   "codemirror_mode": {
    "name": "ipython",
    "version": 3
   },
   "file_extension": ".py",
   "mimetype": "text/x-python",
   "name": "python",
   "nbconvert_exporter": "python",
   "pygments_lexer": "ipython3",
   "version": "3.8.10"
  },
  "orig_nbformat": 4,
  "vscode": {
   "interpreter": {
    "hash": "916dbcbb3f70747c44a77c7bcd40155683ae19c65e1c03b4aa3499c5328201f1"
   }
  }
 },
 "nbformat": 4,
 "nbformat_minor": 2
}
