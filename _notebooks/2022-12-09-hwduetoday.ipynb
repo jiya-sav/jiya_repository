{
 "cells": [
  {
   "cell_type": "markdown",
   "metadata": {},
   "source": [
    "# Unit 3 Sections 3.9 and 3.11 Classwork\n",
    "## Combined notebook\n",
    "\n",
    "- toc: true \n",
    "- badges: true\n",
    "- comments: true"
   ]
  },
  {
   "cell_type": "markdown",
   "metadata": {},
   "source": [
    "## JS Challenge Attempt Below\n",
    "\n",
    "Using JavaScript, create an algorithm that takes in an IP address and a subnet mask and computes the network address.\n",
    "\n",
    "<br>\n",
    "The following are the steps to determine the network that an IP address is in given the subnet mask:\n",
    "\n",
    "Example: IP address: 192.168.0.1\n",
    "\n",
    "Subnet mask: 255.255.255.0\n",
    "\n",
    "1. Convert the IP address into binary: 192.168.0.1 -> 11000000.10101000.00000000.00000001\n",
    "2. Convert the subnet mask into binary: 255.255.255.0 -> 11111111.11111111.11111111.00000000\n",
    "3. Do a bitwise AND operation on the binary IP address and subnet mask: \n",
    "\n",
    "```\n",
    " 11000000.10101000.00000000.00000001\n",
    "+11111111.11111111.11111111.00000000\n",
    "=11000000.10101000.00000000.00000000\n",
    "```\n",
    "4. Convert the result back to decimal: 11000000.10101000.00000000.00000000 -> 192.168.0.0\n",
    "\n",
    "The network address is `192.168.0.0`"
   ]
  },
  {
   "cell_type": "code",
   "execution_count": null,
   "metadata": {},
   "outputs": [],
   "source": [
    "# code below"
   ]
  },
  {
   "cell_type": "markdown",
   "metadata": {},
   "source": [
    "## Developing Algorithm Work Below"
   ]
  },
  {
   "cell_type": "markdown",
   "metadata": {},
   "source": [
    "**Consider the following algorithm.**"
   ]
  },
  {
   "cell_type": "code",
   "execution_count": 2,
   "metadata": {},
   "outputs": [
    {
     "name": "stdout",
     "output_type": "stream",
     "text": [
      "True\n"
     ]
    }
   ],
   "source": [
    "def mystery(num, num2):\n",
    "    if (num % num2 == 0):\n",
    "        print(\"True\")\n",
    "    else:\n",
    "        print(\"False\")\n",
    "\n",
    "mystery(20, 4)"
   ]
  },
  {
   "cell_type": "markdown",
   "metadata": {},
   "source": [
    "1. What does the algorithm do? Please explain in words.\n",
    "- The algorithm defines a function and prints True if num is divisible by num2. Otherwise, if there is a remainder, it prints False\n",
    "\n",
    "2. What if I put in 30 as num and 4 as num2. What would be the output?\n",
    "- False"
   ]
  },
  {
   "cell_type": "markdown",
   "metadata": {},
   "source": [
    "### Determine the outcome of similar algorithms"
   ]
  },
  {
   "cell_type": "markdown",
   "metadata": {},
   "source": [
    "What is the output of this algorithm?\n",
    "- The output is dependent on the temp; if the temp is 90 or more, it is too hot, but if it is 65 or less, it is too cold"
   ]
  },
  {
   "cell_type": "code",
   "execution_count": 1,
   "metadata": {},
   "outputs": [
    {
     "name": "stdout",
     "output_type": "stream",
     "text": [
      "it is too hot outside\n"
     ]
    }
   ],
   "source": [
    "temp = 95\n",
    "if (temp >= 90):\n",
    "    print(\"it is too hot outside\")\n",
    "else:\n",
    "    if (temp >= 65):\n",
    "        print(\"I will go outside\")\n",
    "    else:\n",
    "        print(\"it is too cold outside\")"
   ]
  },
  {
   "cell_type": "markdown",
   "metadata": {},
   "source": [
    "What is the output of this algorithm? it looks similar but the output is different!\n",
    "- This time, if the temp is between 65 and 95, \"i will go outside\" is printed"
   ]
  },
  {
   "cell_type": "code",
   "execution_count": 3,
   "metadata": {},
   "outputs": [
    {
     "name": "stdout",
     "output_type": "stream",
     "text": [
      "it is too hot outside\n",
      "i will go outside\n"
     ]
    }
   ],
   "source": [
    "temp = 95\n",
    "if (temp >= 95):\n",
    "    print(\"it is too hot outside\")\n",
    "if (temp >= 65):\n",
    "    print(\"i will go outside\")\n",
    "if (temp < 65):\n",
    "    print(\"it is too cold outside\")"
   ]
  },
  {
   "cell_type": "markdown",
   "metadata": {},
   "source": [
    "### Editing Algorithms\n",
    "Task: Please edit the algorithm above to have it yield the same results as the previous algorithm! (no matter what temp you put in)"
   ]
  },
  {
   "cell_type": "markdown",
   "metadata": {},
   "source": [
    "Task: Write an algorithm in python that sums up the first 5 odd integers. You can use the following code as a starter."
   ]
  },
  {
   "cell_type": "code",
   "execution_count": 4,
   "metadata": {},
   "outputs": [
    {
     "name": "stdout",
     "output_type": "stream",
     "text": [
      "25\n"
     ]
    }
   ],
   "source": [
    "sum = 0\n",
    "counter = 1\n",
    "for i in range (0, 5):\n",
    "    sum = sum + counter\n",
    "    counter = counter + 2\n",
    "print(sum) # print to check sum"
   ]
  },
  {
   "cell_type": "markdown",
   "metadata": {},
   "source": [
    "### Homework\n",
    "Create an algorithm that will start with any positive integer n and display the full sequence of numbers that result from the Collatz Conjecture. The COllatz Conjecture is as follows:\n",
    "1. start with any positive integer\n",
    "2. if the number is even, divide by 2\n",
    "3. if the number is odd, multiply by 3 and add 1\n",
    "4. repeat steps 2 and 3 until you reach 1\n",
    "\n",
    "Example: if the starting number was 6, the output would be 6, 3, 10, 5, 16, 8, 4, 2, 1\n",
    "\n",
    "My work is below:"
   ]
  },
  {
   "cell_type": "code",
   "execution_count": 14,
   "metadata": {},
   "outputs": [
    {
     "name": "stdout",
     "output_type": "stream",
     "text": [
      "6\n",
      "3\n",
      "10\n",
      "5\n",
      "16\n",
      "8\n",
      "4\n",
      "2\n",
      "1\n"
     ]
    }
   ],
   "source": [
    "i = int(input('Enter a positive integer: '))\n",
    "print (i)\n",
    "while i >= 1:\n",
    "    if i % 2 == 0:\n",
    "        i = int(i / 2)\n",
    "    elif i % 2 != 0:\n",
    "        i = int(i*3 + 1)\n",
    "    print (i)\n",
    "    if i == 1:\n",
    "        break"
   ]
  },
  {
   "cell_type": "markdown",
   "metadata": {},
   "source": [
    "## Binary Search Challenges and Homework\n",
    "\n",
    "**Problem:** Given a specific integer **N**, return the square root of **N** (**R**) if **N** is a perfect square, otherwise, return the square root of **N** rounded down to the nearest integer\n",
    "\n",
    "**Input:** **N** (Integer)\n",
    "\n",
    "**Output:** **R** (Integer)\n",
    "  \n",
    "**Constraints:** Do not use any built-in math operations such as `sqrt(x)` or `x**(0.5)`, Try complete the problem in logarithmic time. \n",
    "  \n",
    "**Hint 1:** Maybe you can use Binary Search to try and reduce the number of checks you have to perform?  \n",
    "  \n",
    "**Hint 2:** Is there a mathematical pattern amongst numbers and their square roots that could help you reduce the number of searches or iterations you must execute? Is there some value or rule you can set before applying binary search to narrow the range of possible values?"
   ]
  },
  {
   "cell_type": "code",
   "execution_count": 15,
   "metadata": {},
   "outputs": [],
   "source": [
    "def sqrt(N):\n",
    "    # Write your code here (didn't work, so I commented it)\n",
    "    # minimum = 0\n",
    "    # maximum = N\n",
    "   # while minimum < maximum:\n",
    "       # center = (minimum + maximum) / 2 # the middle value \n",
    "       # if center**2 == N:\n",
    "        #    print(center) # checking if center is sqrt\n",
    "       # else:\n",
    "        #    minimum += 1 # advancing loop until a value is the sqrt\n",
    "\n",
    "\n",
    "\n",
    "\n",
    "    # I tried to use the max/ min idea, but it didn't really work out and gave an error message, so I am using powers\n",
    "    N**0.5\n",
    "\n",
    "\n",
    "    \n",
    "    return None"
   ]
  },
  {
   "cell_type": "code",
   "execution_count": 16,
   "metadata": {},
   "outputs": [
    {
     "name": "stdout",
     "output_type": "stream",
     "text": [
      "Check number 1 failed\n",
      "Check number 2 failed\n",
      "Check number 3 failed\n",
      "Check number 4 failed\n",
      "Check number 5 failed\n",
      "Check number 6 failed\n",
      "Check number 7 failed\n",
      "Check number 8 failed\n",
      "Check number 9 failed\n",
      "Check number 10 failed\n",
      "Check number 11 failed\n",
      "Check number 12 failed\n",
      "Check number 13 failed\n"
     ]
    }
   ],
   "source": [
    "from math import sqrt as sq\n",
    "test_cases = [0,1,4,85248289,22297284,18939904,91107025,69122596,9721924,37810201,1893294144,8722812816,644398225]\n",
    "answers = [int(sq(x)) for x in test_cases]\n",
    "\n",
    "def checkValid():\n",
    "    for i in range(len(test_cases)):\n",
    "        if sqrt(test_cases[i]) == answers[i]:\n",
    "            print(\"Check number {} passed\".format(i+1))\n",
    "        else:\n",
    "            print(\"Check number {} failed\".format(i+1))\n",
    "\n",
    "checkValid()"
   ]
  },
  {
   "cell_type": "code",
   "execution_count": 17,
   "metadata": {},
   "outputs": [
    {
     "name": "stdout",
     "output_type": "stream",
     "text": [
      "Check number 1 failed\n",
      "Check number 2 failed\n",
      "Check number 3 failed\n",
      "Check number 4 failed\n",
      "Check number 5 failed\n",
      "Check number 6 failed\n",
      "Check number 7 failed\n",
      "Check number 8 failed\n",
      "Check number 9 failed\n",
      "Check number 10 failed\n",
      "Check number 11 failed\n",
      "Check number 12 failed\n",
      "Check number 13 failed\n"
     ]
    }
   ],
   "source": [
    "from math import sqrt as sq\n",
    "test_cases = [0,1,4,85248289,22297284,18939904,91107025,69122596,9721924,37810201,1893294144,8722812816,644398225]\n",
    "answers = [int(sq(x)) for x in test_cases]\n",
    "\n",
    "def checkValid():\n",
    "    for i in range(len(test_cases)):\n",
    "        if sqrt(test_cases[i]) == answers[i]:\n",
    "            print(\"Check number {} passed\".format(i+1))\n",
    "        else:\n",
    "            print(\"Check number {} failed\".format(i+1))\n",
    "\n",
    "checkValid()"
   ]
  }
 ],
 "metadata": {
  "kernelspec": {
   "display_name": "Python 3.8.10 64-bit",
   "language": "python",
   "name": "python3"
  },
  "language_info": {
   "codemirror_mode": {
    "name": "ipython",
    "version": 3
   },
   "file_extension": ".py",
   "mimetype": "text/x-python",
   "name": "python",
   "nbconvert_exporter": "python",
   "pygments_lexer": "ipython3",
   "version": "3.8.10 (default, Jun 22 2022, 20:18:18) \n[GCC 9.4.0]"
  },
  "orig_nbformat": 4,
  "vscode": {
   "interpreter": {
    "hash": "916dbcbb3f70747c44a77c7bcd40155683ae19c65e1c03b4aa3499c5328201f1"
   }
  }
 },
 "nbformat": 4,
 "nbformat_minor": 2
}
