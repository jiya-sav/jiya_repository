{
 "cells": [
  {
   "cell_type": "markdown",
   "metadata": {},
   "source": [
    "# Below is my own custom dictionary and list\n",
    "- title: Quiz Stored in dictionary\n",
    "- toc: true\n",
    "- categories: [units]\n",
    "- categories: [Week 2]\n",
    "- tags: [python]"
   ]
  },
  {
   "cell_type": "code",
   "execution_count": 3,
   "metadata": {},
   "outputs": [
    {
     "name": "stdout",
     "output_type": "stream",
     "text": [
      "This is a quiz with a total of 3 questions.\n",
      "You are correct!\n",
      "Wrong. The correct answer is: core\n",
      "Wrong. The correct answer is: yes\n",
      "Your total score is:1 out of 3\n"
     ]
    }
   ],
   "source": [
    "question_and_answer = []\n",
    "question_and_answer.append({\n",
    "    \"Question\": \"What is the shape of the earth?\",\n",
    "    \"Answer\": \"sphere\"\n",
    "})\n",
    "\n",
    "question_and_answer.append({\n",
    "    \"Question\": \"What is the innermost layer of earth?\",\n",
    "    \"Answer\": \"core\"\n",
    "})\n",
    "\n",
    "question_and_answer.append({\n",
    "    \"Question\": \"Is global warming bad?\",\n",
    "    \"Answer\": \"yes\"\n",
    "\n",
    "})\n",
    "\n",
    "totalquestions = len(question_and_answer)\n",
    "print(\"This is a quiz with a total of \" + str(totalquestions) + \" questions.\")\n",
    "\n",
    "score = 0\n",
    "for record in question_and_answer:\n",
    "    msg = input(record[\"Question\"])\n",
    "    if (msg == record[\"Answer\"]):\n",
    "         print (\"You are correct!\")\n",
    "         score = score + 1\n",
    "    else:\n",
    "        print (\"Wrong. The correct answer is: \" + record[\"Answer\"])\n",
    "\n",
    "print(\"Your total score is:\" + str(score) + \" out of \" + str(totalquestions))\n",
    "\n",
    "\n"
   ]
  }
 ],
 "metadata": {
  "kernelspec": {
   "display_name": "Python 3.8.10 64-bit",
   "language": "python",
   "name": "python3"
  },
  "language_info": {
   "codemirror_mode": {
    "name": "ipython",
    "version": 3
   },
   "file_extension": ".py",
   "mimetype": "text/x-python",
   "name": "python",
   "nbconvert_exporter": "python",
   "pygments_lexer": "ipython3",
   "version": "3.8.10"
  },
  "orig_nbformat": 4,
  "vscode": {
   "interpreter": {
    "hash": "916dbcbb3f70747c44a77c7bcd40155683ae19c65e1c03b4aa3499c5328201f1"
   }
  }
 },
 "nbformat": 4,
 "nbformat_minor": 2
}
