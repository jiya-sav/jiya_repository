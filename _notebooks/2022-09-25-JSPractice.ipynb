{
 "cells": [
  {
   "cell_type": "markdown",
   "metadata": {},
   "source": [
    "# Below is a demo of a js calculator\n",
    "\n",
    "- toc: true\n",
    "- comments: true\n",
    "- categories: [week 5]\n"
   ]
  },
  {
   "cell_type": "code",
   "execution_count": 30,
   "metadata": {},
   "outputs": [
    {
     "data": {
      "text/html": [
       "<script><script><script>function display(val) {document.getElementById('textval').value += val } function evaluate() {    let x = document.getElementById('textval').value    let y = eval(x)    document.getElementById('textval').value = y}function clr() {document.getElementById('textval').value = ''}</script></script></script><div><table><p>Calculator</p><div>A JS Calculator</div><table border='1'><tr><td><input type='button' style='background-color:red;color: white;' value='c' onclick='clr()' /> </td><td colspan='3'><input type='text' style='background-color:blue;color: white;' id='textval' /></td></tr><tr><td><input type='button' style='background-color:red;color: white;' value='+' onclick='display('+')' /> </td><td><input type='button' style='background-color:red;color: white;' value='1' onclick='display('1')' /> </td><td><input type='button' style='background-color:red;color: white;' value='2' onclick='display('2')' /> </td><td><input type='button' style='background-color:red;color: white;' value='3' onclick='display('3')' /> </td></tr><tr><td><input type='button' style='background-color:red;color: white;' value='-' onclick='display('-')' /> </td><td><input type='button' style='background-color:red;color: white;' value='4' onclick='display('4')' /> </td><td><input type='button' style='background-color:red;color: white;' value='5' onclick='display('5')' /> </td><td><input type='button' style='background-color:red;color: white;' value='6' onclick='display('6')' /> </td></tr><tr><td><input type='button' style='background-color:red;color: white;' value='*' onclick='display('*')' /> </td><td><input type='button' style='background-color:red;color: white;' value='7' onclick='display('7')' /> </td><td><input type='button' style='background-color:red;color: white;' value='8' onclick='display('8')' /> </td><td><input type='button' style='background-color:red;color: white;' value='9' onclick='display('9')' /> </td></tr><tr><td><input type='button' style='background-color:red;color: white;' value='/' onclick='display('/')' /> </td><td><input type='button' style='background-color:red;color: white;' value='.' onclick='display('.')' /> </td><td><input type='button' style='background-color:red;color: white;' value='0' onclick='display('0')' /> </td><td><input type='button' style='background-color:red;color: white;' value='=' onclick='evaluate()' /> </td></tr></table></table></div>"
      ]
     },
     "execution_count": 30,
     "metadata": {},
     "output_type": "execute_result"
    }
   ],
   "source": [
    "function myScript(){\n",
    "  var myScript=\"<script>\" ;\n",
    "  myScript += \"function display(val) {\" ;\n",
    "  myScript += \"document.getElementById('textval').value += val\" ;\n",
    "  myScript += \" }\";\n",
    "  myScript += \" function eval1() {\";\n",
    "  myScript += \"    let x = document.getElementById('textval').value\";\n",
    "  myScript += \"    let y = eval(x)\";\n",
    "  myScript += \"    document.getElementById('textval').value = y\";\n",
    "  myScript += \"}\";\n",
    "  myScript += \"function clr() {\";\n",
    "  myScript += \"document.getElementById('textval').value = ''\";\n",
    "  myScript += \"}\";\n",
    "  myScript += \"</script>\";\n",
    "  return \"<script>\" + myScript + \"</script>\" ;\n",
    "}\n",
    "// defining our calculator function\n",
    "function myCalc() {\n",
    "  // HTML Body of Table is build as a series of concatenations (+=)\n",
    "  var body = \"\";\n",
    "  var script=myScript();\n",
    "  // making a header\n",
    "  body += \"<p>Calculator</p>\";\n",
    "  body += \"<div>A JS Calculator</div>\";\n",
    "\n",
    "  body +=  \"<table border='1'>\";\n",
    "  body +=     \"<tr>\";\n",
    "  body +=          \"<td><input type='button' style='background-color:red;color: white;' value='c' onclick='clr()' /> </td>\";\n",
    "  body +=          \"<td colspan='3'><input type='text' style='background-color:blue;color: white;' id='textval' /></td>\";\n",
    "  body +=     \"</tr>\";\n",
    "  body +=  \"<tr>\";\n",
    " body +=    \"<td><input type='button' style='background-color:red;color: white;' value='+' onclick='display('+')' /> </td>\";\n",
    " body +=    \"<td><input type='button' style='background-color:red;color: white;' value='1' onclick='display('1')' /> </td>\";\n",
    " body +=    \"<td><input type='button' style='background-color:red;color: white;' value='2' onclick='display('2')' /> </td>\";\n",
    " body +=    \"<td><input type='button' style='background-color:red;color: white;' value='3' onclick='display('3')' /> </td>\";\n",
    " body += \"</tr>\";\n",
    "body += \"<tr>\";\n",
    "body +=     \"<td><input type='button' style='background-color:red;color: white;' value='-' onclick='display('-')' /> </td>\";\n",
    "body +=     \"<td><input type='button' style='background-color:red;color: white;' value='4' onclick='display('4')' /> </td>\";\n",
    "body +=     \"<td><input type='button' style='background-color:red;color: white;' value='5' onclick='display('5')' /> </td>\";\n",
    "body +=     \"<td><input type='button' style='background-color:red;color: white;' value='6' onclick='display('6')' /> </td>\";\n",
    "body += \"</tr>\";\n",
    "body += \"<tr>\";\n",
    "body +=     \"<td><input type='button' style='background-color:red;color: white;' value='*' onclick='display('*')' /> </td>\";\n",
    "body +=     \"<td><input type='button' style='background-color:red;color: white;' value='7' onclick='display('7')' /> </td>\";\n",
    "body +=     \"<td><input type='button' style='background-color:red;color: white;' value='8' onclick='display('8')' /> </td>\";\n",
    "body +=     \"<td><input type='button' style='background-color:red;color: white;' value='9' onclick='display('9')' /> </td>\";\n",
    "body += \"</tr>\";\n",
    "body += \"<tr>\";\n",
    "body +=     \"<td><input type='button' style='background-color:red;color: white;' value='/' onclick='display('/')' /> </td>\";\n",
    "body +=     \"<td><input type='button' style='background-color:red;color: white;' value='.' onclick='display('.')' /> </td>\";\n",
    "body +=     \"<td><input type='button' style='background-color:red;color: white;' value='0' onclick='display('0')' /> </td>\";\n",
    "body +=     \"<td><input type='button' style='background-color:red;color: white;' value='=' onclick='eval1()' /> </td>\";\n",
    "body += \"</tr>\";\n",
    "  body += \"</table>\";\n",
    "   \n",
    "   // Build and HTML fragment of div, table, table body\n",
    "  return (\n",
    "    \"<script>\" + script + \"</script>\" +\n",
    "    \"<div>\" +\n",
    "      \"<table>\" +\n",
    "        body +\n",
    "      \"</table>\" +\n",
    "    \"</div>\"\n",
    "  );\n",
    "\n",
    "};\n",
    "\n",
    "$$.html(myCalc());\n"
   ]
  },
  {
   "cell_type": "markdown",
   "metadata": {},
   "source": []
  },
  {
   "cell_type": "code",
   "execution_count": null,
   "metadata": {},
   "outputs": [],
   "source": []
  }
 ],
 "metadata": {
  "kernelspec": {
   "display_name": "JavaScript (Node.js)",
   "language": "javascript",
   "name": "javascript"
  },
  "language_info": {
   "file_extension": ".js",
   "mimetype": "application/javascript",
   "name": "javascript",
   "version": "6.11.2"
  },
  "orig_nbformat": 4,
  "vscode": {
   "interpreter": {
    "hash": "916dbcbb3f70747c44a77c7bcd40155683ae19c65e1c03b4aa3499c5328201f1"
   }
  }
 },
 "nbformat": 4,
 "nbformat_minor": 2
}
