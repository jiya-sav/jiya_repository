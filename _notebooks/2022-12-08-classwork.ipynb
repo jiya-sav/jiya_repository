{
 "cells": [
  {
   "cell_type": "markdown",
   "metadata": {},
   "source": [
    "# Unit 3 Sections 12-13\n",
    "- comments: true\n",
    "- title: Unit 3 Sections 12-13\n",
    "- toc: true"
   ]
  },
  {
   "cell_type": "markdown",
   "metadata": {},
   "source": [
    "## Take some additional notes that you would like here for 3.12 and 3.13. We will be looking for additional notes from the presentation. \n",
    "\n",
    "Extra notes taken below\n"
   ]
  },
  {
   "cell_type": "markdown",
   "metadata": {},
   "source": [
    "## What are procedures?\n",
    "\n",
    "**Fill in the blanks please:**\n",
    "\n",
    "Procedure: named group of programming instructions that may have parameters and return values\n",
    "- can also be referred as method or function, depending on the language\n",
    "- need to examine code line by line to determine this\n",
    "\n",
    "Parameters: input values of a procedure\n",
    "\n",
    "Arguments: specify the values of the parameters when a procedure is called\n",
    "\n",
    "Modularity: separating a program's functions into independent pieces or blocks, each containing all the parts needed to execute a single aspect of the functionality\n",
    "\n",
    "Procedural Abstraction: provides a name for a process that allows a procedure to be used only knowing what it does, not how it does it\n",
    "- allows a solution to a large problem based on the solutions of smaller subproblems\n",
    "\n",
    "What are some other names for procedures?\n",
    "- function\n",
    "\n",
    "Why are procedures effective?\n",
    "- they allow us to find out individually where something may have gone wrong\n",
    "- you can look at only the function or place where something went wrong, rather than the whole \n"
   ]
  },
  {
   "attachments": {},
   "cell_type": "markdown",
   "metadata": {},
   "source": [
    "## <mark>Challenge 1</mark> below: Add the command that will **call** the procedure. "
   ]
  },
  {
   "cell_type": "code",
   "execution_count": 9,
   "metadata": {},
   "outputs": [
    {
     "name": "stdout",
     "output_type": "stream",
     "text": [
      "Binary of 8 is:  1000\n"
     ]
    }
   ],
   "source": [
    "# decimal = 7\n",
    "\n",
    "# def convertToBinary(n):\n",
    "\n",
    "\n",
    "   # (decimal) \n",
    "# print()\n",
    "\n",
    "# below is what I did\n",
    "def DecimalToBinary(num):\n",
    "    strs = \"\"\n",
    "    while num:\n",
    "        # if (num & 1) = 1\n",
    "        if (num & 1):\n",
    "            strs += \"1\"\n",
    "        # if (num & 1) = 0\n",
    "        else:\n",
    "            strs += \"0\"\n",
    "        # right shift by 1\n",
    "        num >>= 1\n",
    "    return strs\n",
    " \n",
    "# function to reverse the string\n",
    "def reverse(strs):\n",
    "    print(strs[::-1])\n",
    " \n",
    "# Code outputted\n",
    "decimal = 8\n",
    "print(\"Binary of 8 is: \", end=\" \")\n",
    "reverse(DecimalToBinary(decimal))"
   ]
  },
  {
   "attachments": {},
   "cell_type": "markdown",
   "metadata": {},
   "source": [
    "## <mark>Challenge 2</mark> below: Complete the Min and Max procedure in either JavaScript and Python using the instructions from the JavaScript page. (JavaScript will get you a extra 0.1)"
   ]
  },
  {
   "cell_type": "code",
   "execution_count": null,
   "metadata": {
    "vscode": {
     "languageId": "javascript"
    }
   },
   "outputs": [],
   "source": [
    "// Start by creating a procedure called findMax and set the parameters to numberA and numberB.\n",
    "// Within the procedure, write the code to determine which of the two parameters, numberA or numberB, is the larger value. Print that value.\n",
    "// Repeat the process, this time creating a procedure called findMin, which will print the parameter with a smaller value.\n",
    "// Call both functions so that the parameters numberA and numberB are given a value.\n",
    "// Optional bonus- create a procedure that can determine the minimum or maximum value out of more than two parameters.\n",
    "\n",
    "var A = \n",
    "\n",
    "fuction findMax {\n",
    "\n",
    "}\n"
   ]
  },
  {
   "cell_type": "code",
   "execution_count": 24,
   "metadata": {},
   "outputs": [
    {
     "name": "stdout",
     "output_type": "stream",
     "text": [
      "6 is the larger value\n",
      "4 is the smaller value\n"
     ]
    }
   ],
   "source": [
    "A = int(input('Enter a number here:'))\n",
    "B = int(input('Enter another number here:'))\n",
    "\n",
    "# max function\n",
    "def findMax ():\n",
    "    if A == B:\n",
    "        print(str(A) + \" equals \" + str(B))\n",
    "    elif A > B:\n",
    "        print(str(A) + \" is the larger value\")\n",
    "    elif B > A:\n",
    "        print(str(B) + \" is the larger value\")\n",
    "\n",
    "findMax()\n",
    "\n",
    "# min function\n",
    "def findMin ():\n",
    "    if A == B:\n",
    "        print(str(A) + \" equals \" + str(B))\n",
    "    elif A > B:\n",
    "        print(str(B) + \" is the smaller value\")\n",
    "    elif B > A:\n",
    "        print(str(A) + \" is the smaller value\")\n",
    "\n",
    "findMin()"
   ]
  },
  {
   "attachments": {},
   "cell_type": "markdown",
   "metadata": {},
   "source": [
    "## <mark>Homework/Hacks</mark>: For the hw, you have two options, easy or hard. The easy hack is for a 2.7 + extra work for the full 3. The easy hack is simply creating your own procedure with your own creativity. Since there is a lot of leeway for this one, you must do additional work to get a 3. For the hard hack, below is the start to a character to binary convertor. This is just a template, but the goal is to translate \"APCSP\" into binary. You can delete the existing code if you want. The only contraint is that you must use a procedure. Doing this will get you a 3. "
   ]
  },
  {
   "cell_type": "code",
   "execution_count": 5,
   "metadata": {},
   "outputs": [
    {
     "name": "stdout",
     "output_type": "stream",
     "text": [
      "''APCSP'' in binary is \n",
      "[1000001, 1010000, 1000011, 1010011, 1010000]\n"
     ]
    }
   ],
   "source": [
    "def charToBinary(x):()\n",
    "\n",
    "# The output shown below is the output you are supposed to get"
   ]
  }
 ],
 "metadata": {
  "kernelspec": {
   "display_name": "Python 3.8.2 64-bit",
   "language": "python",
   "name": "python3"
  },
  "language_info": {
   "codemirror_mode": {
    "name": "ipython",
    "version": 3
   },
   "file_extension": ".py",
   "mimetype": "text/x-python",
   "name": "python",
   "nbconvert_exporter": "python",
   "pygments_lexer": "ipython3",
   "version": "3.8.10 (default, Jun 22 2022, 20:18:18) \n[GCC 9.4.0]"
  },
  "orig_nbformat": 4,
  "vscode": {
   "interpreter": {
    "hash": "916dbcbb3f70747c44a77c7bcd40155683ae19c65e1c03b4aa3499c5328201f1"
   }
  }
 },
 "nbformat": 4,
 "nbformat_minor": 2
}
