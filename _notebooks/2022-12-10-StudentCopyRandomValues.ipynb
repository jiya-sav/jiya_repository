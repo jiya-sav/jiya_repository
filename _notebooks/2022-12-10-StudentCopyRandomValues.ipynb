{
 "cells": [
  {
   "attachments": {},
   "cell_type": "markdown",
   "metadata": {},
   "source": [
    "# Unit 3.15 Random Values Student Copy\n",
    "> Here is our lesson about random values!\n",
    "\n",
    "- toc: true\n",
    "- comments: true\n",
    "- categories: [Week-13,Big-Idea-3]\n",
    "- image: /images/college-board-logo.png"
   ]
  },
  {
   "attachments": {},
   "cell_type": "markdown",
   "metadata": {},
   "source": [
    "Purpose/Objectives: Teach student how to implement randomness into their code to make their code simulate real life situations. \n",
    "\n",
    "In this lesson students will learn:\n",
    "- How to import random to python\n",
    "- How to use random with a list or number range \n",
    "- How to code randomness in everyday scenarios"
   ]
  },
  {
   "attachments": {},
   "cell_type": "markdown",
   "metadata": {},
   "source": [
    "## What are Random Values?"
   ]
  },
  {
   "attachments": {},
   "cell_type": "markdown",
   "metadata": {},
   "source": [
    "Random Values are a number generated using a large set of numbers and a mathematical algorithm which gives equal probability to all number occuring"
   ]
  },
  {
   "attachments": {},
   "cell_type": "markdown",
   "metadata": {},
   "source": [
    "Each Result from randomization is equally likely to occur\n",
    "Using random number generation in a program means each execution may produce a different result"
   ]
  },
  {
   "attachments": {},
   "cell_type": "markdown",
   "metadata": {},
   "source": [
    "What are Examples of Random outputs in the world?  Add a few you can think of. \n",
    "- Ex: Marbles, coin flip, cards, hair colors and genes\n"
   ]
  },
  {
   "attachments": {},
   "cell_type": "markdown",
   "metadata": {},
   "source": [
    "## Why do we need Random Values for code?\n",
    "\n",
    "Random values can be used in coding for Games, Statistical Sampling, Cryptography, etc."
   ]
  },
  {
   "attachments": {},
   "cell_type": "markdown",
   "metadata": {},
   "source": [
    "Random values can be used in coding:\n",
    "- "
   ]
  },
  {
   "cell_type": "code",
   "execution_count": 1,
   "metadata": {},
   "outputs": [
    {
     "name": "stdout",
     "output_type": "stream",
     "text": [
      "51\n"
     ]
    }
   ],
   "source": [
    "import random\n",
    "random_number = random.randint(1,100)\n",
    "print(random_number)"
   ]
  },
  {
   "cell_type": "code",
   "execution_count": 2,
   "metadata": {},
   "outputs": [
    {
     "name": "stdout",
     "output_type": "stream",
     "text": [
      "apple\n"
     ]
    }
   ],
   "source": [
    "def randomlist():\n",
    "    list = [\"apple\", \"banana\", \"cherry\", \"blueberry\"]\n",
    "    element = random.choice(list)\n",
    "    print(element)\n",
    "randomlist()"
   ]
  },
  {
   "attachments": {},
   "cell_type": "markdown",
   "metadata": {},
   "source": [
    "Real Life Examples:\n",
    "Dice Roll"
   ]
  },
  {
   "cell_type": "code",
   "execution_count": 3,
   "metadata": {},
   "outputs": [
    {
     "name": "stdout",
     "output_type": "stream",
     "text": [
      "Roll 1:2\n",
      "Roll 2:1\n",
      "Roll 3:2\n"
     ]
    }
   ],
   "source": [
    "import random\n",
    "for i in range(3):\n",
    "    roll = random.randint(1,6)\n",
    "    print(\"Roll \" + str(i + 1) + \":\" + str(roll))"
   ]
  },
  {
   "attachments": {},
   "cell_type": "markdown",
   "metadata": {},
   "source": [
    "## Challenge #1\n",
    "Write a function that will a simulate a coinflip and print the output"
   ]
  },
  {
   "cell_type": "code",
   "execution_count": 4,
   "metadata": {},
   "outputs": [
    {
     "name": "stdout",
     "output_type": "stream",
     "text": [
      "Heads\n",
      "Heads\n",
      "Heads\n",
      "Heads\n",
      "Tails\n"
     ]
    }
   ],
   "source": [
    "import random\n",
    "\n",
    "def coinflip():         # def function \n",
    "    randomflip = random.randint(0, 1) # picks either 0 or 1 randomly (50/50 chance of either) \n",
    "    if randomflip == 0: # assigning 0 to be heads; if 0 is chosen then it will print, \"Heads\"\n",
    "        print(\"Heads\")\n",
    "    else:\n",
    "        if randomflip == 1: # assigning 1 to be tails; if 1 is chosen then it will print, \"Tails\"\n",
    "            print(\"Tails\")\n",
    "\n",
    "# Tossing the coin 5 times:\n",
    "t1 = coinflip()\n",
    "t2 = coinflip()\n",
    "t3 = coinflip()\n",
    "t4 = coinflip()\n",
    "t5 = coinflip()"
   ]
  },
  {
   "attachments": {},
   "cell_type": "markdown",
   "metadata": {},
   "source": [
    "EXTRA: Create a function that will randomly select 5 playing Cards and check if the 5 cards are a Royal Flush"
   ]
  },
  {
   "attachments": {},
   "cell_type": "markdown",
   "metadata": {},
   "source": [
    "## Homework\n",
    "Given a random decimal number convert it into binary\n",
    "as Extra convert it to hexidecimal as well. "
   ]
  },
  {
   "cell_type": "code",
   "execution_count": 6,
   "metadata": {},
   "outputs": [
    {
     "name": "stdout",
     "output_type": "stream",
     "text": [
      "100011\n"
     ]
    }
   ],
   "source": [
    "def convert(n): \n",
    "    if n == 0:\n",
    "        print(\"0\")\n",
    "    elif n == 1:\n",
    "        print(\"1\")\n",
    "    else:\n",
    "        binary = \"\" # define a string \"\" variable for storing binary digits; calculated below\n",
    "        # divide the number (n) by 2, until it becomes 0, and store the remainder in the above string variable\n",
    "        while int(n) > 0:\n",
    "            binary += str(int(n%2)) # retreive the remainder, and keep appending to the string\n",
    "            n = n / 2 # change the number to its quotient, then repeat\n",
    "        print(binary[::-1]) # now the binary string has all the desired digits, but in reverse order\n",
    "        # :: is how to reverse string\n",
    "        \n",
    "n = random.randint(1,100) # generates random number 1 to 100\n",
    "convert(n) # perform the function"
   ]
  }
 ],
 "metadata": {
  "kernelspec": {
   "display_name": "Python 3",
   "language": "python",
   "name": "python3"
  },
  "language_info": {
   "codemirror_mode": {
    "name": "ipython",
    "version": 3
   },
   "file_extension": ".py",
   "mimetype": "text/x-python",
   "name": "python",
   "nbconvert_exporter": "python",
   "pygments_lexer": "ipython3",
   "version": "3.8.10"
  },
  "orig_nbformat": 4,
  "vscode": {
   "interpreter": {
    "hash": "916dbcbb3f70747c44a77c7bcd40155683ae19c65e1c03b4aa3499c5328201f1"
   }
  }
 },
 "nbformat": 4,
 "nbformat_minor": 2
}
