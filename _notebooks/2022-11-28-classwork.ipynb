{
 "cells": [
  {
   "cell_type": "markdown",
   "metadata": {},
   "source": [
    "# Unit 3 Sections 1-2: Variables and Data Abstraction\n",
    "\n",
    "\n",
    "Below is the outputted values of the list that don't fit the requirements."
   ]
  },
  {
   "cell_type": "code",
   "execution_count": 1,
   "metadata": {},
   "outputs": [],
   "source": [
    "# list of the different numerical values\n",
    "data = [104, 101, 4, 105, 308, 103, 5, 107,\n",
    "        100, 306, 106, 102, 108]\n",
    "min_valid = 100  # minimum value\n",
    "max_valid = 200  # maximum value\n"
   ]
  },
  {
   "cell_type": "markdown",
   "metadata": {},
   "source": [
    "Below is the output of \"playing: ____\""
   ]
  },
  {
   "cell_type": "code",
   "execution_count": 2,
   "metadata": {},
   "outputs": [],
   "source": [
    "albums = [\n",
    "    (\"Welcome to my Nightmare\", \"Alice Cooper\", 1975,   # First album list\n",
    "     [\n",
    "         (1, \"Welcome to my Nightmare\"),\n",
    "         (2, \"Devil's Food\"),\n",
    "         (3, \"The Black Widow\"),\n",
    "         (4, \"Some Folks\"),\n",
    "         (5, \"Only Women Bleed\"),\n",
    "     ]\n",
    "     ),\n",
    "    (\"Bad Company\", \"Bad Company\", 1974,   # Second album list\n",
    "     [\n",
    "         (1, \"Can't Get Enough\"),\n",
    "         (2, \"Rock Steady\"),\n",
    "         (3, \"Ready for Love\"),\n",
    "         (4, \"Don't Let Me Down\"),\n",
    "         (5, \"Bad Company\"),\n",
    "         (6, \"The Way I Choose\"),\n",
    "         (7, \"Movin' On\"),\n",
    "         (8, \"Seagull\"),\n",
    "     ]\n",
    "     ),\n",
    "    (\"Nightflight\", \"Budgie\", 1981,\n",
    "     [\n",
    "         (1, \"I Turned to Stone\"),\n",
    "         (2, \"Keeping a Rendezvous\"),\n",
    "         (3, \"Reaper of the Glory\"),\n",
    "         (4, \"She Used Me Up\"),\n",
    "     ]\n",
    "     ),\n",
    "    (\"More Mayhem\", \"Imelda May\", 2011,\n",
    "     [\n",
    "         (1, \"Pulling the Rug\"),\n",
    "         (2, \"Psycho\"),\n",
    "         (3, \"Mayhem\"),\n",
    "         (4, \"Kentish Town Waltz\"),\n",
    "     ]\n",
    "     ),\n",
    "]"
   ]
  }
 ],
 "metadata": {
  "kernelspec": {
   "display_name": "Python 3.8.10 64-bit",
   "language": "python",
   "name": "python3"
  },
  "language_info": {
   "codemirror_mode": {
    "name": "ipython",
    "version": 3
   },
   "file_extension": ".py",
   "mimetype": "text/x-python",
   "name": "python",
   "nbconvert_exporter": "python",
   "pygments_lexer": "ipython3",
   "version": "3.8.10"
  },
  "orig_nbformat": 4,
  "vscode": {
   "interpreter": {
    "hash": "916dbcbb3f70747c44a77c7bcd40155683ae19c65e1c03b4aa3499c5328201f1"
   }
  }
 },
 "nbformat": 4,
 "nbformat_minor": 2
}
