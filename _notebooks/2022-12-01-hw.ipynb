{
 "cells": [
  {
   "cell_type": "code",
   "execution_count": null,
   "metadata": {},
   "outputs": [],
   "source": [
    "# Unit 3 Sections 5-7 Classwork\n",
    "\n",
    "- title: Unit 3 Sections 5-7 Classwork\n",
    "- toc: true\n",
    "- comments: true\n",
    "- categories: [week 13]"
   ]
  },
  {
   "cell_type": "code",
   "execution_count": 5,
   "metadata": {},
   "outputs": [
    {
     "name": "stdout",
     "output_type": "stream",
     "text": [
      "That is not very many\n",
      "Above average\n",
      "That's long\n"
     ]
    }
   ],
   "source": [
    "# Unit 3 Lesson 7: Conditionals Practice\n",
    "# = ; (idk what this does so I just commented it)\n",
    "\n",
    "sibnum = int(input('How many siblings do you have?'))\n",
    "if (sibnum > 3): \n",
    "    print(\"Wow, that is a lot\"); \n",
    "else: \n",
    "    print(\"That is not very many\"); \n",
    "\n",
    "gpa = int(input('What is your SAT score?'))\n",
    "if (gpa > 1051): \n",
    "    print(\"Above average\"); \n",
    "else: \n",
    "    print(\"Below average\"); \n",
    "\n",
    "name = str(input('What is your first name?'))\n",
    "if (len(name) >= 9): \n",
    "    print(\"That's long\"); \n",
    "else:\n",
    "    print(\"Not too long\"); "
   ]
  },
  {
   "cell_type": "markdown",
   "metadata": {},
   "source": [
    "## Homework/Hacks\n",
    "\n",
    " our homework we have decided for a decimal number to binary converter. You must use conditional statements within your code and have a input box for where the decimal number will go. This will give you a 2.7 out of 3 and you may add anything else to the code to get above a 2.7.\n"
   ]
  },
  {
   "cell_type": "markdown",
   "metadata": {},
   "source": [
    "Below is an example of decimal number to binary converter which you can use as a starting template."
   ]
  },
  {
   "cell_type": "code",
   "execution_count": 1,
   "metadata": {},
   "outputs": [
    {
     "name": "stdout",
     "output_type": "stream",
     "text": [
      "Binary of num 67 is: 1000011\n"
     ]
    }
   ],
   "source": [
    "def DecimalToBinary(num):\n",
    "    strs = \"\"\n",
    "    while num:\n",
    "        # if (num & 1) = 1\n",
    "        if (num & 1):\n",
    "            strs += \"1\"\n",
    "        # if (num & 1) = 0\n",
    "        else:\n",
    "            strs += \"0\"\n",
    "        # right shift by 1\n",
    "        num >>= 1\n",
    "    return strs\n",
    " \n",
    "# function to reverse the string\n",
    "def reverse(strs):\n",
    "    print(strs[::-1])\n",
    " \n",
    "# Driver Code\n",
    "num = 67\n",
    "print(\"Binary of num 67 is:\", end=\" \")\n",
    "reverse(DecimalToBinary(num))"
   ]
  },
  {
   "cell_type": "markdown",
   "metadata": {},
   "source": [
    "Below is my work"
   ]
  },
  {
   "cell_type": "code",
   "execution_count": 2,
   "metadata": {},
   "outputs": [
    {
     "name": "stdout",
     "output_type": "stream",
     "text": [
      "1000\n"
     ]
    }
   ],
   "source": [
    "def convert(n): \n",
    "    if n == 0:\n",
    "        print(\"0\")\n",
    "    elif n == 1:\n",
    "        print(\"1\")\n",
    "    else:\n",
    "        binary = \"\" # define a string \"\" variable for storing binary digits; calculated below\n",
    "        # divide the number (n) by 2, until it becomes 0, and store the remainder in the above string variable\n",
    "        while int(n) > 0:\n",
    "            binary += str(i]nt(n%2)) # retreive the remainder, and keep appending to the string\n",
    "            n = n / 2 # change the number to its quotient, then repeat\n",
    "        print(binary[::-1]) # now the binary string has all the desired digits, but in reverse order\n",
    "        # :: is how to reverse string\n",
    "        \n",
    "n = int(input('Enter a number'))\n",
    "convert(n) # perform the function"
   ]
  }
 ],
 "metadata": {
  "kernelspec": {
   "display_name": "Python 3.8.10 64-bit",
   "language": "python",
   "name": "python3"
  },
  "language_info": {
   "codemirror_mode": {
    "name": "ipython",
    "version": 3
   },
   "file_extension": ".py",
   "mimetype": "text/x-python",
   "name": "python",
   "nbconvert_exporter": "python",
   "pygments_lexer": "ipython3",
   "version": "3.8.10"
  },
  "orig_nbformat": 4,
  "vscode": {
   "interpreter": {
    "hash": "916dbcbb3f70747c44a77c7bcd40155683ae19c65e1c03b4aa3499c5328201f1"
   }
  }
 },
 "nbformat": 4,
 "nbformat_minor": 2
}
