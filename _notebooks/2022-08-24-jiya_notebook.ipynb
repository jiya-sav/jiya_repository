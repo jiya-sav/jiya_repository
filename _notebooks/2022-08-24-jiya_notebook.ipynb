{
 "cells": [
  {
   "cell_type": "markdown",
   "metadata": {},
   "source": [
    "# First Hello Blog Post\n",
    "- toc: true\n",
    "- badges: true\n",
    "- comments: true\n",
    "- author: Jiya\n",
    "- categories: [fastpages, jupyter, Week 0]"
   ]
  },
  {
   "cell_type": "code",
   "execution_count": 2,
   "metadata": {},
   "outputs": [
    {
     "name": "stdout",
     "output_type": "stream",
     "text": [
      "Hello Jiya\n"
     ]
    }
   ],
   "source": [
    "msg = \"Hello Jiya\"\n",
    "print (msg)\n"
   ]
  },
  {
   "cell_type": "markdown",
   "metadata": {},
   "source": [
    "#Notes\n",
    "- I can take notes using a Jupyter kernel in a python kernel"
   ]
  }
 ],
 "metadata": {
  "kernelspec": {
   "display_name": "Python 3.9.12 ('base')",
   "language": "python",
   "name": "python3"
  },
  "language_info": {
   "codemirror_mode": {
    "name": "ipython",
    "version": 3
   },
   "file_extension": ".py",
   "mimetype": "text/x-python",
   "name": "python",
   "nbconvert_exporter": "python",
   "pygments_lexer": "ipython3",
   "version": "3.9.12"
  },
  "orig_nbformat": 4,
  "vscode": {
   "interpreter": {
    "hash": "34c9fa3ae818557188ebd7e281cefec07e94110d2ddb7e54de23849f88b1beec"
   }
  }
 },
 "nbformat": 4,
 "nbformat_minor": 2
}
